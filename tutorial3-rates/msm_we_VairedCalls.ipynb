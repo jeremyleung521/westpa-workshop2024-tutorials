{
 "cells": [
  {
   "cell_type": "markdown",
   "id": "583090ea-a04b-42f3-8e8b-25c61eb2c4b5",
   "metadata": {},
   "source": [
    "# Steps of msm_we:"
   ]
  },
  {
   "cell_type": "markdown",
   "id": "274ff1ee-1644-4c55-96f8-4267e5d4435c",
   "metadata": {},
   "source": [
    "![Steps of msm_we](MSM_steps.png)"
   ]
  },
  {
   "cell_type": "markdown",
   "id": "a291b9e4-82a9-4a4b-ae0e-580753b587d5",
   "metadata": {},
   "source": [
    "# Compatibility of msm_we: NESS Simulation Data"
   ]
  },
  {
   "cell_type": "markdown",
   "id": "63b4e128-6f2f-4114-b152-b191449ba9fe",
   "metadata": {},
   "source": [
    "![NESS_Equ_Prob](NESS_Equl_prob.png)"
   ]
  },
  {
   "cell_type": "markdown",
   "id": "9dae8f4e-4def-4389-acb6-cdb870565c77",
   "metadata": {},
   "source": [
    "#### If running with $OMP_NUM_THREADS > 1, Ray parallelism may occasionally silently hang during clustering/flux matrix calculations. If submitting the msm_we on a cluster, then set the variable export OMP_NUM_THREADS=1 in the SLURM file used to submit the job."
   ]
  },
  {
   "cell_type": "code",
   "execution_count": 1,
   "id": "7b4422ed-7fcb-4869-82f2-97009fd398ad",
   "metadata": {},
   "outputs": [
    {
     "name": "stdout",
     "output_type": "stream",
     "text": [
      "env: OMP_NUM_THREADS=1\n"
     ]
    }
   ],
   "source": [
    "%env OMP_NUM_THREADS=1"
   ]
  },
  {
   "cell_type": "code",
   "execution_count": 2,
   "id": "661cb63a-eaad-4991-93c4-8bb6f2bf236c",
   "metadata": {},
   "outputs": [],
   "source": [
    "import msm_we\n",
    "import numpy as np\n",
    "import pickle\n",
    "import ray"
   ]
  },
  {
   "cell_type": "markdown",
   "id": "c93d9f1b-b54f-4d9e-8d88-de6422616ac6",
   "metadata": {},
   "source": [
    "#### Here, Ray is initialized and the number of CPUs employed for the msm_we job is specified."
   ]
  },
  {
   "cell_type": "code",
   "execution_count": 3,
   "id": "b06b440d-fce0-44c1-8189-c3a79a2d8651",
   "metadata": {
    "scrolled": true
   },
   "outputs": [
    {
     "name": "stderr",
     "output_type": "stream",
     "text": [
      "2024-06-18 08:36:48,071\tINFO worker.py:1749 -- Started a local Ray instance.\n"
     ]
    },
    {
     "data": {
      "application/vnd.jupyter.widget-view+json": {
       "model_id": "6344b2499ec84743a7818d19d88b0155",
       "version_major": 2,
       "version_minor": 0
      },
      "text/html": [
       "<div class=\"lm-Widget p-Widget lm-Panel p-Panel jp-Cell-outputWrapper\">\n",
       "    <div style=\"margin-left: 50px;display: flex;flex-direction: row;align-items: center\">\n",
       "        <div class=\"jp-RenderedHTMLCommon\" style=\"display: flex; flex-direction: row;\">\n",
       "  <svg viewBox=\"0 0 567 224\" fill=\"none\" xmlns=\"http://www.w3.org/2000/svg\" style=\"height: 3em;\">\n",
       "    <g clip-path=\"url(#clip0_4338_178347)\">\n",
       "        <path d=\"M341.29 165.561H355.29L330.13 129.051C345.63 123.991 354.21 112.051 354.21 94.2307C354.21 71.3707 338.72 58.1807 311.88 58.1807H271V165.561H283.27V131.661H311.8C314.25 131.661 316.71 131.501 319.01 131.351L341.25 165.561H341.29ZM283.29 119.851V70.0007H311.82C331.3 70.0007 342.34 78.2907 342.34 94.5507C342.34 111.271 331.34 119.861 311.82 119.861L283.29 119.851ZM451.4 138.411L463.4 165.561H476.74L428.74 58.1807H416L367.83 165.561H380.83L392.83 138.411H451.4ZM446.19 126.601H398L422 72.1407L446.24 126.601H446.19ZM526.11 128.741L566.91 58.1807H554.35L519.99 114.181L485.17 58.1807H472.44L514.01 129.181V165.541H526.13V128.741H526.11Z\" fill=\"var(--jp-ui-font-color0)\"/>\n",
       "        <path d=\"M82.35 104.44C84.0187 97.8827 87.8248 92.0678 93.1671 87.9146C98.5094 83.7614 105.083 81.5067 111.85 81.5067C118.617 81.5067 125.191 83.7614 130.533 87.9146C135.875 92.0678 139.681 97.8827 141.35 104.44H163.75C164.476 101.562 165.622 98.8057 167.15 96.2605L127.45 56.5605C121.071 60.3522 113.526 61.6823 106.235 60.3005C98.9443 58.9187 92.4094 54.9203 87.8602 49.0574C83.3109 43.1946 81.0609 35.8714 81.5332 28.4656C82.0056 21.0599 85.1679 14.0819 90.4252 8.8446C95.6824 3.60726 102.672 0.471508 110.08 0.0272655C117.487 -0.416977 124.802 1.86091 130.647 6.4324C136.493 11.0039 140.467 17.5539 141.821 24.8501C143.175 32.1463 141.816 39.6859 138 46.0505L177.69 85.7505C182.31 82.9877 187.58 81.4995 192.962 81.4375C198.345 81.3755 203.648 82.742 208.33 85.3976C213.012 88.0532 216.907 91.9029 219.616 96.5544C222.326 101.206 223.753 106.492 223.753 111.875C223.753 117.258 222.326 122.545 219.616 127.197C216.907 131.848 213.012 135.698 208.33 138.353C203.648 141.009 198.345 142.375 192.962 142.313C187.58 142.251 182.31 140.763 177.69 138L138 177.7C141.808 184.071 143.155 191.614 141.79 198.91C140.424 206.205 136.44 212.75 130.585 217.313C124.731 221.875 117.412 224.141 110.004 223.683C102.596 223.226 95.6103 220.077 90.3621 214.828C85.1139 209.58 81.9647 202.595 81.5072 195.187C81.0497 187.779 83.3154 180.459 87.878 174.605C92.4405 168.751 98.9853 164.766 106.281 163.401C113.576 162.035 121.119 163.383 127.49 167.19L167.19 127.49C165.664 124.941 164.518 122.182 163.79 119.3H141.39C139.721 125.858 135.915 131.673 130.573 135.826C125.231 139.98 118.657 142.234 111.89 142.234C105.123 142.234 98.5494 139.98 93.2071 135.826C87.8648 131.673 84.0587 125.858 82.39 119.3H60C58.1878 126.495 53.8086 132.78 47.6863 136.971C41.5641 141.163 34.1211 142.972 26.7579 142.059C19.3947 141.146 12.6191 137.574 7.70605 132.014C2.79302 126.454 0.0813599 119.29 0.0813599 111.87C0.0813599 104.451 2.79302 97.2871 7.70605 91.7272C12.6191 86.1673 19.3947 82.5947 26.7579 81.6817C34.1211 80.7686 41.5641 82.5781 47.6863 86.7696C53.8086 90.9611 58.1878 97.2456 60 104.44H82.35ZM100.86 204.32C103.407 206.868 106.759 208.453 110.345 208.806C113.93 209.159 117.527 208.258 120.522 206.256C123.517 204.254 125.725 201.276 126.771 197.828C127.816 194.38 127.633 190.677 126.253 187.349C124.874 184.021 122.383 181.274 119.205 179.577C116.027 177.88 112.359 177.337 108.826 178.042C105.293 178.746 102.113 180.654 99.8291 183.44C97.5451 186.226 96.2979 189.718 96.3 193.32C96.2985 195.364 96.7006 197.388 97.4831 199.275C98.2656 201.163 99.4132 202.877 100.86 204.32ZM204.32 122.88C206.868 120.333 208.453 116.981 208.806 113.396C209.159 109.811 208.258 106.214 206.256 103.219C204.254 100.223 201.275 98.0151 197.827 96.97C194.38 95.9249 190.676 96.1077 187.348 97.4873C184.02 98.8669 181.274 101.358 179.577 104.536C177.879 107.714 177.337 111.382 178.041 114.915C178.746 118.448 180.653 121.627 183.439 123.911C186.226 126.195 189.717 127.443 193.32 127.44C195.364 127.443 197.388 127.042 199.275 126.259C201.163 125.476 202.878 124.328 204.32 122.88ZM122.88 19.4205C120.333 16.8729 116.981 15.2876 113.395 14.9347C109.81 14.5817 106.213 15.483 103.218 17.4849C100.223 19.4868 98.0146 22.4654 96.9696 25.9131C95.9245 29.3608 96.1073 33.0642 97.4869 36.3922C98.8665 39.7202 101.358 42.4668 104.535 44.1639C107.713 45.861 111.381 46.4036 114.914 45.6992C118.447 44.9949 121.627 43.0871 123.911 40.301C126.195 37.515 127.442 34.0231 127.44 30.4205C127.44 28.3772 127.038 26.3539 126.255 24.4664C125.473 22.5788 124.326 20.8642 122.88 19.4205ZM19.42 100.86C16.8725 103.408 15.2872 106.76 14.9342 110.345C14.5813 113.93 15.4826 117.527 17.4844 120.522C19.4863 123.518 22.4649 125.726 25.9127 126.771C29.3604 127.816 33.0638 127.633 36.3918 126.254C39.7198 124.874 42.4664 122.383 44.1635 119.205C45.8606 116.027 46.4032 112.359 45.6988 108.826C44.9944 105.293 43.0866 102.114 40.3006 99.8296C37.5145 97.5455 34.0227 96.2983 30.42 96.3005C26.2938 96.3018 22.337 97.9421 19.42 100.86ZM100.86 100.86C98.3125 103.408 96.7272 106.76 96.3742 110.345C96.0213 113.93 96.9226 117.527 98.9244 120.522C100.926 123.518 103.905 125.726 107.353 126.771C110.8 127.816 114.504 127.633 117.832 126.254C121.16 124.874 123.906 122.383 125.604 119.205C127.301 116.027 127.843 112.359 127.139 108.826C126.434 105.293 124.527 102.114 121.741 99.8296C118.955 97.5455 115.463 96.2983 111.86 96.3005C109.817 96.299 107.793 96.701 105.905 97.4835C104.018 98.2661 102.303 99.4136 100.86 100.86Z\" fill=\"#00AEEF\"/>\n",
       "    </g>\n",
       "    <defs>\n",
       "        <clipPath id=\"clip0_4338_178347\">\n",
       "            <rect width=\"566.93\" height=\"223.75\" fill=\"white\"/>\n",
       "        </clipPath>\n",
       "    </defs>\n",
       "  </svg>\n",
       "</div>\n",
       "\n",
       "        <table class=\"jp-RenderedHTMLCommon\" style=\"border-collapse: collapse;color: var(--jp-ui-font-color1);font-size: var(--jp-ui-font-size1);\">\n",
       "    <tr>\n",
       "        <td style=\"text-align: left\"><b>Python version:</b></td>\n",
       "        <td style=\"text-align: left\"><b>3.10.14</b></td>\n",
       "    </tr>\n",
       "    <tr>\n",
       "        <td style=\"text-align: left\"><b>Ray version:</b></td>\n",
       "        <td style=\"text-align: left\"><b>2.23.0</b></td>\n",
       "    </tr>\n",
       "    \n",
       "</table>\n",
       "\n",
       "    </div>\n",
       "</div>\n"
      ],
      "text/plain": [
       "RayContext(dashboard_url='', python_version='3.10.14', ray_version='2.23.0', ray_commit='a0947ead5cd94b3d8ca5cdeb9422dccb12d03867')"
      ]
     },
     "execution_count": 3,
     "metadata": {},
     "output_type": "execute_result"
    }
   ],
   "source": [
    "ray.init(num_cpus=2)  #Example if 2 cpus are used"
   ]
  },
  {
   "cell_type": "markdown",
   "id": "d17e4f40-4a72-4baf-a4c0-24130dbdc471",
   "metadata": {},
   "source": [
    "## Prep\n",
    "#### First, let’s set some parameters for haMSM building."
   ]
  },
  {
   "cell_type": "code",
   "execution_count": 4,
   "id": "a63ed150-924b-447a-be0c-74556bc3383a",
   "metadata": {},
   "outputs": [],
   "source": [
    "#ModelName\n",
    "model_name = 'NTL9_SynMD_WEfolding'\n",
    "\n",
    "#west.h5 file location\n",
    "h5file_paths = ['../ntl9_sample_files/completed_files/west.h5']\n",
    "\n",
    "# Reference structure\n",
    "ref_file = '../ntl9_sample_files/ntl9_folding_synd/ntl9.pdb'"
   ]
  },
  {
   "cell_type": "markdown",
   "id": "4f9e6d6c-8d4d-437c-a30e-9eeff09cd95a",
   "metadata": {},
   "source": [
    "#### Basis and Target need to be defined as done while running WE-NESS simulations\n",
    "##### Currently, the msm_we package supports the Basis and Target definition along the first progress coordinate.\n",
    "##### All structures in Basis (Target) WE bins are grouped in one cluster when building the transition matrix."
   ]
  },
  {
   "cell_type": "code",
   "execution_count": 5,
   "id": "626b11b8-2cc9-4190-9abc-f3712d62b2db",
   "metadata": {},
   "outputs": [],
   "source": [
    "# Boundaries of the basis/target, in progress coordinate space\n",
    "pcoord_bounds = { 'basis':[[10.0, 20.0]], 'target':[[0, 1.0]] }"
   ]
  },
  {
   "cell_type": "markdown",
   "id": "7a16dbe2-ffea-4ad6-af3d-d3313722d95e",
   "metadata": {},
   "source": [
    "#### Tau needs to be the resampling time (in second) used in the WE simulation."
   ]
  },
  {
   "cell_type": "code",
   "execution_count": 6,
   "id": "c462947c-7c01-426d-8415-ef083dfc376f",
   "metadata": {},
   "outputs": [],
   "source": [
    "# WESTPA resampling time (in second):\n",
    "tau = 3e-10 "
   ]
  },
  {
   "cell_type": "markdown",
   "id": "7726ebee-8454-4bea-b7d6-1b14674192e6",
   "metadata": {},
   "source": [
    "#### Define MSM Featurization\n",
    "##### The function 'processCoordinates' defines a transformation that’s applied to the coordinates in 'auxdata/coord' before dimensionality reduction.\n",
    "##### The inputs are the coordinates (read from 'auxdata/coord') for each segment in the loaded iteration(s), and it should return an array of features for each.\n",
    "##### For example: Calpha pairwise distnaces."
   ]
  },
  {
   "cell_type": "code",
   "execution_count": 7,
   "id": "244a2438-7e2d-411d-9582-eb721a6dc276",
   "metadata": {},
   "outputs": [],
   "source": [
    "import Coordinate_Processing\n",
    "msm_we.modelWE.processCoordinates = Coordinate_Processing.processCoordinates"
   ]
  },
  {
   "cell_type": "markdown",
   "id": "06142397-47a1-4266-8d21-06daa6cc56ee",
   "metadata": {},
   "source": [
    "## Model Initialization parameters\n",
    "#### modelName: str,\n",
    "#### fileSpecifier: str,\n",
    "#### refPDBfile: str,\n",
    "#### basis_pcoord_bounds: list = None,\n",
    "#### target_pcoord_bounds: list = None,\n",
    "#### dim_reduce_method: str = \"none\",  \n",
    "##### 'pca', 'tica', 'vamp'\n",
    "#### tau: float = None,\n",
    "#### pcoord_ndim: int = 1, If more than 1 pcoord_ndim is there, msm_we will take first one to.....\n",
    "#### auxpath: str = \"coord\",\n",
    "#### use_weights_in_clustering=False,"
   ]
  },
  {
   "cell_type": "code",
   "execution_count": 8,
   "id": "3a022652-6df5-4c0d-ac4e-52f6864416ae",
   "metadata": {},
   "outputs": [],
   "source": [
    "#DimReduction method\n",
    "dimreduce_method = 'vamp'"
   ]
  },
  {
   "cell_type": "code",
   "execution_count": 9,
   "id": "322c8dff-98cb-4532-b2c1-b3338f7f575b",
   "metadata": {},
   "outputs": [],
   "source": [
    "model = msm_we.modelWE()\n",
    "model.initialize(modelName=model_name,fileSpecifier=h5file_paths,refPDBfile=ref_file,basis_pcoord_bounds=pcoord_bounds['basis'],target_pcoord_bounds=pcoord_bounds['target'],tau=tau,dim_reduce_method=dimreduce_method)"
   ]
  },
  {
   "cell_type": "code",
   "execution_count": 10,
   "id": "daf5496a-5513-4d21-9b3c-336e374fd964",
   "metadata": {},
   "outputs": [
    {
     "data": {
      "text/html": [
       "<pre style=\"white-space:pre;overflow-x:auto;line-height:normal;font-family:Menlo,'DejaVu Sans Mono',consolas,'Courier New',monospace\">  Getting coordSet <span style=\"color: #729c1f; text-decoration-color: #729c1f\">━━━━━━━━━━━━━━━━━━━━━━━━━━━━━━━━━━━━━━━━</span> <span style=\"color: #800080; text-decoration-color: #800080\">100%</span> <span style=\"color: #008080; text-decoration-color: #008080\">0:00:00</span> <span style=\"color: #808000; text-decoration-color: #808000\">0:00:07</span>\n",
       "</pre>\n"
      ],
      "text/plain": [
       "  Getting coordSet \u001b[38;2;114;156;31m━━━━━━━━━━━━━━━━━━━━━━━━━━━━━━━━━━━━━━━━\u001b[0m \u001b[35m100%\u001b[0m \u001b[36m0:00:00\u001b[0m \u001b[33m0:00:07\u001b[0m\n"
      ]
     },
     "metadata": {},
     "output_type": "display_data"
    },
    {
     "data": {
      "text/html": [
       "<pre style=\"white-space:pre;overflow-x:auto;line-height:normal;font-family:Menlo,'DejaVu Sans Mono',consolas,'Courier New',monospace\"></pre>\n"
      ],
      "text/plain": []
     },
     "metadata": {},
     "output_type": "display_data"
    },
    {
     "data": {
      "text/html": [
       "<pre style=\"white-space:pre;overflow-x:auto;line-height:normal;font-family:Menlo,'DejaVu Sans Mono',consolas,'Courier New',monospace\">\n",
       "</pre>\n"
      ],
      "text/plain": [
       "\n"
      ]
     },
     "metadata": {},
     "output_type": "display_data"
    }
   ],
   "source": [
    "model.get_iterations()    #Get total WE iteration\n",
    "model.get_coordSet(last_iter = model.maxIter)    #loads data "
   ]
  },
  {
   "cell_type": "markdown",
   "id": "70238e96-53fe-4e79-9795-546edd9a9545",
   "metadata": {},
   "source": [
    "## Dimensionality Reduction Call Options\n",
    "#### first_iter=1: Training data starts from the first WE iteration.\n",
    "#### last_iter=None: Specifies up to which iteration. If not specified, defaults to the last WE iteration.\n",
    "#### fine_stride=1, interval...\n",
    "#### variance_cutoff=0.95 (default value), but can be specified.\n",
    "#### use_weights=True (default value), but can be specified as False."
   ]
  },
  {
   "cell_type": "code",
   "execution_count": 11,
   "id": "77f2721d-deee-4a5f-a36e-768d9b8a0b07",
   "metadata": {},
   "outputs": [
    {
     "data": {
      "text/html": [
       "<pre style=\"white-space:pre;overflow-x:auto;line-height:normal;font-family:Menlo,'DejaVu Sans Mono',consolas,'Courier New',monospace\">  Loading data for VAMP <span style=\"color: #729c1f; text-decoration-color: #729c1f\">━━━━━━━━━━━━━━━━━━━━━━━━━━━━━━━━━━━━━━━━</span> <span style=\"color: #800080; text-decoration-color: #800080\">100%</span> <span style=\"color: #008080; text-decoration-color: #008080\">0:00:00</span> <span style=\"color: #808000; text-decoration-color: #808000\">0:00:08</span>\n",
       "</pre>\n"
      ],
      "text/plain": [
       "  Loading data for VAMP \u001b[38;2;114;156;31m━━━━━━━━━━━━━━━━━━━━━━━━━━━━━━━━━━━━━━━━\u001b[0m \u001b[35m100%\u001b[0m \u001b[36m0:00:00\u001b[0m \u001b[33m0:00:08\u001b[0m\n"
      ]
     },
     "metadata": {},
     "output_type": "display_data"
    },
    {
     "data": {
      "text/html": [
       "<pre style=\"white-space:pre;overflow-x:auto;line-height:normal;font-family:Menlo,'DejaVu Sans Mono',consolas,'Courier New',monospace\"></pre>\n"
      ],
      "text/plain": []
     },
     "metadata": {},
     "output_type": "display_data"
    },
    {
     "data": {
      "text/html": [
       "<pre style=\"white-space:pre;overflow-x:auto;line-height:normal;font-family:Menlo,'DejaVu Sans Mono',consolas,'Courier New',monospace\">\n",
       "</pre>\n"
      ],
      "text/plain": [
       "\n"
      ]
     },
     "metadata": {},
     "output_type": "display_data"
    },
    {
     "data": {
      "text/html": [
       "<pre style=\"white-space:pre;overflow-x:auto;line-height:normal;font-family:Menlo,'DejaVu Sans Mono',consolas,'Courier New',monospace\"><span style=\"color: #7fbfbf; text-decoration-color: #7fbfbf\">[06/18/24 08:37:25] </span><span style=\"color: #000080; text-decoration-color: #000080\">INFO    </span> Performing weighted vamp                                        <a href=\"file:///home/groups/ZuckermanLab/kanias/Other_Downloads/westpa-workshop2024-tutorials-main/tutorial3-rates/msm_we-main/msm_we/_hamsm/_dimensionality.py\" target=\"_blank\"><span style=\"color: #7f7f7f; text-decoration-color: #7f7f7f\">_dimensionality.py</span></a><span style=\"color: #7f7f7f; text-decoration-color: #7f7f7f\">:</span><a href=\"file:///home/groups/ZuckermanLab/kanias/Other_Downloads/westpa-workshop2024-tutorials-main/tutorial3-rates/msm_we-main/msm_we/_hamsm/_dimensionality.py#300\" target=\"_blank\"><span style=\"color: #7f7f7f; text-decoration-color: #7f7f7f\">300</span></a>\n",
       "</pre>\n"
      ],
      "text/plain": [
       "\u001b[2;36m[06/18/24 08:37:25]\u001b[0m\u001b[2;36m \u001b[0m\u001b[34mINFO    \u001b[0m Performing weighted vamp                                        \u001b]8;id=889586;file:///home/groups/ZuckermanLab/kanias/Other_Downloads/westpa-workshop2024-tutorials-main/tutorial3-rates/msm_we-main/msm_we/_hamsm/_dimensionality.py\u001b\\\u001b[2m_dimensionality.py\u001b[0m\u001b]8;;\u001b\\\u001b[2m:\u001b[0m\u001b]8;id=547128;file:///home/groups/ZuckermanLab/kanias/Other_Downloads/westpa-workshop2024-tutorials-main/tutorial3-rates/msm_we-main/msm_we/_hamsm/_dimensionality.py#300\u001b\\\u001b[2m300\u001b[0m\u001b]8;;\u001b\\\n"
      ]
     },
     "metadata": {},
     "output_type": "display_data"
    },
    {
     "data": {
      "text/html": [
       "<pre style=\"white-space:pre;overflow-x:auto;line-height:normal;font-family:Menlo,'DejaVu Sans Mono',consolas,'Courier New',monospace\"><span style=\"color: #7fbfbf; text-decoration-color: #7fbfbf\">[06/18/24 08:37:26] </span><span style=\"color: #000080; text-decoration-color: #000080\">INFO    </span>  vamp will reduce <span style=\"color: #008080; text-decoration-color: #008080; font-weight: bold\">741</span> to <span style=\"color: #008080; text-decoration-color: #008080; font-weight: bold\">13</span> components.                         <a href=\"file:///home/groups/ZuckermanLab/kanias/Other_Downloads/westpa-workshop2024-tutorials-main/tutorial3-rates/msm_we-main/msm_we/_hamsm/_dimensionality.py\" target=\"_blank\"><span style=\"color: #7f7f7f; text-decoration-color: #7f7f7f\">_dimensionality.py</span></a><span style=\"color: #7f7f7f; text-decoration-color: #7f7f7f\">:</span><a href=\"file:///home/groups/ZuckermanLab/kanias/Other_Downloads/westpa-workshop2024-tutorials-main/tutorial3-rates/msm_we-main/msm_we/_hamsm/_dimensionality.py#316\" target=\"_blank\"><span style=\"color: #7f7f7f; text-decoration-color: #7f7f7f\">316</span></a>\n",
       "</pre>\n"
      ],
      "text/plain": [
       "\u001b[2;36m[06/18/24 08:37:26]\u001b[0m\u001b[2;36m \u001b[0m\u001b[34mINFO    \u001b[0m  vamp will reduce \u001b[1;36m741\u001b[0m to \u001b[1;36m13\u001b[0m components.                         \u001b]8;id=757302;file:///home/groups/ZuckermanLab/kanias/Other_Downloads/westpa-workshop2024-tutorials-main/tutorial3-rates/msm_we-main/msm_we/_hamsm/_dimensionality.py\u001b\\\u001b[2m_dimensionality.py\u001b[0m\u001b]8;;\u001b\\\u001b[2m:\u001b[0m\u001b]8;id=748560;file:///home/groups/ZuckermanLab/kanias/Other_Downloads/westpa-workshop2024-tutorials-main/tutorial3-rates/msm_we-main/msm_we/_hamsm/_dimensionality.py#316\u001b\\\u001b[2m316\u001b[0m\u001b]8;;\u001b\\\n"
      ]
     },
     "metadata": {},
     "output_type": "display_data"
    }
   ],
   "source": [
    "model.dimReduce(variance_cutoff=0.05, use_weights=False)\n",
    "with open('Outputs/Dim_Reduce_Vamp_05.obj', 'wb') as outfile:\n",
    "    pickle.dump(model, outfile)"
   ]
  },
  {
   "cell_type": "markdown",
   "id": "3255a874-86f1-413d-b8c1-353dcd71429b",
   "metadata": {},
   "source": [
    "## Clustering call options\n",
    "#### n_clusters, number of clusters per stratum\n",
    "#### use_ray=False,\n",
    "#### stratified=True, If False, it performs aggregated clustering (not recommended).\n",
    "#### iters_to_use=None: If None, then all WE iteration data is used for training Example: iters_to_use=range(1,10) \n",
    "#### store_validation_model=False: If True, then it can perform block validation (explained later).\n",
    "#### **_cluster_args, Arguments for the clustering algorithm (sklearn.cluster.MiniBatchKMeans)."
   ]
  },
  {
   "cell_type": "code",
   "execution_count": 12,
   "id": "79e93308-bde5-4f65-b074-e4589e7271a6",
   "metadata": {},
   "outputs": [
    {
     "data": {
      "text/html": [
       "<pre style=\"white-space:pre;overflow-x:auto;line-height:normal;font-family:Menlo,'DejaVu Sans Mono',consolas,'Courier New',monospace\">  Clustering <span style=\"color: #729c1f; text-decoration-color: #729c1f\">━━━━━━━━━━━━━━━━━━━━━━━━━━━━━━━━━━━━━━━━</span> <span style=\"color: #800080; text-decoration-color: #800080\">100%</span> <span style=\"color: #008080; text-decoration-color: #008080\">0:00:00</span> <span style=\"color: #808000; text-decoration-color: #808000\">0:00:08</span>\n",
       "</pre>\n"
      ],
      "text/plain": [
       "  Clustering \u001b[38;2;114;156;31m━━━━━━━━━━━━━━━━━━━━━━━━━━━━━━━━━━━━━━━━\u001b[0m \u001b[35m100%\u001b[0m \u001b[36m0:00:00\u001b[0m \u001b[33m0:00:08\u001b[0m\n"
      ]
     },
     "metadata": {},
     "output_type": "display_data"
    },
    {
     "data": {
      "text/html": [
       "<pre style=\"white-space:pre;overflow-x:auto;line-height:normal;font-family:Menlo,'DejaVu Sans Mono',consolas,'Courier New',monospace\"></pre>\n"
      ],
      "text/plain": []
     },
     "metadata": {},
     "output_type": "display_data"
    },
    {
     "data": {
      "text/html": [
       "<pre style=\"white-space:pre;overflow-x:auto;line-height:normal;font-family:Menlo,'DejaVu Sans Mono',consolas,'Courier New',monospace\">\n",
       "</pre>\n"
      ],
      "text/plain": [
       "\n"
      ]
     },
     "metadata": {},
     "output_type": "display_data"
    }
   ],
   "source": [
    "# Number of MSM microstates to initially put in each stratum/WE bin\n",
    "clusters_per_stratum = 3\n",
    "\n",
    "model.cluster_coordinates(n_clusters=clusters_per_stratum, use_ray=True, streaming=True, stratified=True, store_validation_model=True, random_state=1337, max_iter=200)\n",
    "\n",
    "with open('Outputs/StratifiedClustering_3perStarta.obj', 'wb') as outfile:\n",
    "    pickle.dump(model, outfile)"
   ]
  },
  {
   "cell_type": "markdown",
   "id": "a41a8f31-414a-4707-9ce8-668027f750b3",
   "metadata": {},
   "source": [
    "## get_fluxMatrix call options: To build flux matrix\n",
    "#### n_lag=0: Only this is supported, meaning building the flux matrix for the lag time as WE resampling time (tau).\n",
    "#### iters_to_use=None: If None, then all WE iteration data is used for training. Example: iters_to_use=range(1,10)."
   ]
  },
  {
   "cell_type": "code",
   "execution_count": 13,
   "id": "9ef31e02-e521-4c7f-b74b-f99d7f314246",
   "metadata": {},
   "outputs": [
    {
     "data": {
      "text/html": [
       "<pre style=\"white-space:pre;overflow-x:auto;line-height:normal;font-family:Menlo,'DejaVu Sans Mono',consolas,'Courier New',monospace\">  Constructing flux matrix <span style=\"color: #729c1f; text-decoration-color: #729c1f\">━━━━━━━━━━━━━━━━━━━━━━━━━━━━━━━━━━━━━━━━</span> <span style=\"color: #800080; text-decoration-color: #800080\">100%</span> <span style=\"color: #008080; text-decoration-color: #008080\">0:00:00</span> <span style=\"color: #808000; text-decoration-color: #808000\">0:00:27</span>\n",
       "</pre>\n"
      ],
      "text/plain": [
       "  Constructing flux matrix \u001b[38;2;114;156;31m━━━━━━━━━━━━━━━━━━━━━━━━━━━━━━━━━━━━━━━━\u001b[0m \u001b[35m100%\u001b[0m \u001b[36m0:00:00\u001b[0m \u001b[33m0:00:27\u001b[0m\n"
      ]
     },
     "metadata": {},
     "output_type": "display_data"
    },
    {
     "data": {
      "text/html": [
       "<pre style=\"white-space:pre;overflow-x:auto;line-height:normal;font-family:Menlo,'DejaVu Sans Mono',consolas,'Courier New',monospace\"></pre>\n"
      ],
      "text/plain": []
     },
     "metadata": {},
     "output_type": "display_data"
    },
    {
     "data": {
      "text/html": [
       "<pre style=\"white-space:pre;overflow-x:auto;line-height:normal;font-family:Menlo,'DejaVu Sans Mono',consolas,'Courier New',monospace\">\n",
       "</pre>\n"
      ],
      "text/plain": [
       "\n"
      ]
     },
     "metadata": {},
     "output_type": "display_data"
    }
   ],
   "source": [
    "model.get_fluxMatrix(n_lag=0)\n",
    "with open('Outputs/FluxMatrixRaw.obj', 'wb') as outfile:\n",
    "    pickle.dump(model, outfile)"
   ]
  },
  {
   "cell_type": "markdown",
   "id": "c377b218-5437-4cf9-a497-6c48221b49ab",
   "metadata": {},
   "source": [
    "## organize_fluxMatrix: Remove disconnected clusters"
   ]
  },
  {
   "cell_type": "code",
   "execution_count": 14,
   "id": "4133f2f7-649b-4f45-9fc9-8ddc311be5ca",
   "metadata": {},
   "outputs": [
    {
     "data": {
      "text/html": [
       "<pre style=\"white-space:pre;overflow-x:auto;line-height:normal;font-family:Menlo,'DejaVu Sans Mono',consolas,'Courier New',monospace\">  Constructing flux matrix <span style=\"color: #729c1f; text-decoration-color: #729c1f\">━━━━━━━━━━━━━━━━━━━━━━━━━━━━━━━━━━━━━━━━</span> <span style=\"color: #800080; text-decoration-color: #800080\">100%</span> <span style=\"color: #008080; text-decoration-color: #008080\">0:00:00</span> <span style=\"color: #808000; text-decoration-color: #808000\">0:00:27</span>\n",
       "</pre>\n"
      ],
      "text/plain": [
       "  Constructing flux matrix \u001b[38;2;114;156;31m━━━━━━━━━━━━━━━━━━━━━━━━━━━━━━━━━━━━━━━━\u001b[0m \u001b[35m100%\u001b[0m \u001b[36m0:00:00\u001b[0m \u001b[33m0:00:27\u001b[0m\n"
      ]
     },
     "metadata": {},
     "output_type": "display_data"
    },
    {
     "data": {
      "text/html": [
       "<pre style=\"white-space:pre;overflow-x:auto;line-height:normal;font-family:Menlo,'DejaVu Sans Mono',consolas,'Courier New',monospace\"></pre>\n"
      ],
      "text/plain": []
     },
     "metadata": {},
     "output_type": "display_data"
    },
    {
     "data": {
      "text/html": [
       "<pre style=\"white-space:pre;overflow-x:auto;line-height:normal;font-family:Menlo,'DejaVu Sans Mono',consolas,'Courier New',monospace\">\n",
       "</pre>\n"
      ],
      "text/plain": [
       "\n"
      ]
     },
     "metadata": {},
     "output_type": "display_data"
    },
    {
     "data": {
      "text/html": [
       "<pre style=\"white-space:pre;overflow-x:auto;line-height:normal;font-family:Menlo,'DejaVu Sans Mono',consolas,'Courier New',monospace\"><span style=\"color: #7fbfbf; text-decoration-color: #7fbfbf\">[06/18/24 08:39:10] </span><span style=\"color: #000080; text-decoration-color: #000080\">INFO    </span> Note: Sorting bins, assuming that pcoord <span style=\"color: #008080; text-decoration-color: #008080; font-weight: bold\">0</span> is meaningful for       <a href=\"file:///home/groups/ZuckermanLab/kanias/Other_Downloads/westpa-workshop2024-tutorials-main/tutorial3-rates/msm_we-main/msm_we/_hamsm/_clustering.py\" target=\"_blank\"><span style=\"color: #7f7f7f; text-decoration-color: #7f7f7f\">_clustering.py</span></a><span style=\"color: #7f7f7f; text-decoration-color: #7f7f7f\">:</span><a href=\"file:///home/groups/ZuckermanLab/kanias/Other_Downloads/westpa-workshop2024-tutorials-main/tutorial3-rates/msm_we-main/msm_we/_hamsm/_clustering.py#1567\" target=\"_blank\"><span style=\"color: #7f7f7f; text-decoration-color: #7f7f7f\">1567</span></a>\n",
       "<span style=\"color: #7fbfbf; text-decoration-color: #7fbfbf\">                    </span>         sorting                                                            <span style=\"color: #7f7f7f; text-decoration-color: #7f7f7f\">                   </span>\n",
       "</pre>\n"
      ],
      "text/plain": [
       "\u001b[2;36m[06/18/24 08:39:10]\u001b[0m\u001b[2;36m \u001b[0m\u001b[34mINFO    \u001b[0m Note: Sorting bins, assuming that pcoord \u001b[1;36m0\u001b[0m is meaningful for       \u001b]8;id=99660;file:///home/groups/ZuckermanLab/kanias/Other_Downloads/westpa-workshop2024-tutorials-main/tutorial3-rates/msm_we-main/msm_we/_hamsm/_clustering.py\u001b\\\u001b[2m_clustering.py\u001b[0m\u001b]8;;\u001b\\\u001b[2m:\u001b[0m\u001b]8;id=936913;file:///home/groups/ZuckermanLab/kanias/Other_Downloads/westpa-workshop2024-tutorials-main/tutorial3-rates/msm_we-main/msm_we/_hamsm/_clustering.py#1567\u001b\\\u001b[2m1567\u001b[0m\u001b]8;;\u001b\\\n",
       "\u001b[2;36m                    \u001b[0m         sorting                                                            \u001b[2m                   \u001b[0m\n"
      ]
     },
     "metadata": {},
     "output_type": "display_data"
    }
   ],
   "source": [
    "model.organize_fluxMatrix()\n",
    "with open('Outputs/FluxMatrixOrganized.obj', 'wb') as outfile:\n",
    "    pickle.dump(model, outfile)"
   ]
  },
  {
   "cell_type": "markdown",
   "id": "6b839683-9786-4e29-b982-f32d97c5e181",
   "metadata": {},
   "source": [
    "## Further calls to:\n",
    "#### Build the transition matrix\n",
    "#### Estimate steady-state probability\n",
    "#### Estimate steady-state target flux"
   ]
  },
  {
   "cell_type": "code",
   "execution_count": 15,
   "id": "fdce7e8b-5354-4838-9c30-004aae428d68",
   "metadata": {},
   "outputs": [
    {
     "data": {
      "text/html": [
       "<pre style=\"white-space:pre;overflow-x:auto;line-height:normal;font-family:Menlo,'DejaVu Sans Mono',consolas,'Courier New',monospace\"><span style=\"color: #7fbfbf; text-decoration-color: #7fbfbf\">[06/18/24 08:39:15] </span><span style=\"color: #000080; text-decoration-color: #000080\">INFO    </span>                                                                       <a href=\"file:///home/groups/ZuckermanLab/kanias/Other_Downloads/westpa-workshop2024-tutorials-main/tutorial3-rates/msm_we-main/msm_we/_hamsm/_analysis.py\" target=\"_blank\"><span style=\"color: #7f7f7f; text-decoration-color: #7f7f7f\">_analysis.py</span></a><span style=\"color: #7f7f7f; text-decoration-color: #7f7f7f\">:</span><a href=\"file:///home/groups/ZuckermanLab/kanias/Other_Downloads/westpa-workshop2024-tutorials-main/tutorial3-rates/msm_we-main/msm_we/_hamsm/_analysis.py#179\" target=\"_blank\"><span style=\"color: #7f7f7f; text-decoration-color: #7f7f7f\">179</span></a>\n",
       "<span style=\"color: #7fbfbf; text-decoration-color: #7fbfbf\">                    </span>         Flux converged to <span style=\"color: #008080; text-decoration-color: #008080; font-weight: bold\">6.1183e+05</span> after <span style=\"color: #008080; text-decoration-color: #008080; font-weight: bold\">1</span> iterations of inverse iteration. <span style=\"color: #7f7f7f; text-decoration-color: #7f7f7f\">                </span>\n",
       "</pre>\n"
      ],
      "text/plain": [
       "\u001b[2;36m[06/18/24 08:39:15]\u001b[0m\u001b[2;36m \u001b[0m\u001b[34mINFO    \u001b[0m                                                                       \u001b]8;id=598465;file:///home/groups/ZuckermanLab/kanias/Other_Downloads/westpa-workshop2024-tutorials-main/tutorial3-rates/msm_we-main/msm_we/_hamsm/_analysis.py\u001b\\\u001b[2m_analysis.py\u001b[0m\u001b]8;;\u001b\\\u001b[2m:\u001b[0m\u001b]8;id=756926;file:///home/groups/ZuckermanLab/kanias/Other_Downloads/westpa-workshop2024-tutorials-main/tutorial3-rates/msm_we-main/msm_we/_hamsm/_analysis.py#179\u001b\\\u001b[2m179\u001b[0m\u001b]8;;\u001b\\\n",
       "\u001b[2;36m                    \u001b[0m         Flux converged to \u001b[1;36m6.1183e+05\u001b[0m after \u001b[1;36m1\u001b[0m iterations of inverse iteration. \u001b[2m                \u001b[0m\n"
      ]
     },
     "metadata": {},
     "output_type": "display_data"
    }
   ],
   "source": [
    "model.get_Tmatrix()\n",
    "model.get_steady_state()\n",
    "model.get_steady_state_target_flux()"
   ]
  },
  {
   "cell_type": "code",
   "execution_count": 16,
   "id": "482f9694-1829-40a4-a101-9609b02886b3",
   "metadata": {},
   "outputs": [],
   "source": [
    "with open('Outputs/SteadyState_Flux.obj', 'wb') as outfile:\n",
    "    pickle.dump(model, outfile)"
   ]
  },
  {
   "cell_type": "code",
   "execution_count": null,
   "id": "2971df92-8ac5-4ffb-a3c3-b89761a1d073",
   "metadata": {},
   "outputs": [],
   "source": []
  }
 ],
 "metadata": {
  "kernelspec": {
   "display_name": "msm_we_py3_10",
   "language": "python",
   "name": "westpa-workshop2024_py3_10"
  },
  "language_info": {
   "codemirror_mode": {
    "name": "ipython",
    "version": 3
   },
   "file_extension": ".py",
   "mimetype": "text/x-python",
   "name": "python",
   "nbconvert_exporter": "python",
   "pygments_lexer": "ipython3",
   "version": "3.10.14"
  }
 },
 "nbformat": 4,
 "nbformat_minor": 5
}
